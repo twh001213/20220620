{
  "cells": [
    {
      "cell_type": "markdown",
      "metadata": {
        "id": "b5y3sfaVvlmK"
      },
      "source": [
        "# Chap7 錯誤處理\n",
        "try:  \n",
        "except:  \n",
        "else:  \n",
        "finally:  "
      ]
    },
    {
      "cell_type": "code",
      "execution_count": null,
      "metadata": {
        "id": "8-kC-3dXvlmO",
        "outputId": "1df6de9a-fa67-4347-e618-35e01c324a72"
      },
      "outputs": [
        {
          "ename": "NameError",
          "evalue": "name 'n' is not defined",
          "output_type": "error",
          "traceback": [
            "\u001b[1;31m---------------------------------------------------------------------------\u001b[0m",
            "\u001b[1;31mNameError\u001b[0m                                 Traceback (most recent call last)",
            "\u001b[1;32m<ipython-input-4-c19f432ee023>\u001b[0m in \u001b[0;36m<module>\u001b[1;34m\u001b[0m\n\u001b[0;32m      2\u001b[0m \u001b[0mb\u001b[0m\u001b[1;33m=\u001b[0m\u001b[1;36m20\u001b[0m\u001b[1;33m\u001b[0m\u001b[1;33m\u001b[0m\u001b[0m\n\u001b[0;32m      3\u001b[0m \u001b[1;32mif\u001b[0m \u001b[0ma\u001b[0m\u001b[1;33m<\u001b[0m\u001b[0mb\u001b[0m\u001b[1;33m:\u001b[0m\u001b[1;33m\u001b[0m\u001b[1;33m\u001b[0m\u001b[0m\n\u001b[1;32m----> 4\u001b[1;33m     \u001b[0mprint\u001b[0m\u001b[1;33m(\u001b[0m\u001b[0mn\u001b[0m\u001b[1;33m)\u001b[0m\u001b[1;33m\u001b[0m\u001b[1;33m\u001b[0m\u001b[0m\n\u001b[0m",
            "\u001b[1;31mNameError\u001b[0m: name 'n' is not defined"
          ]
        }
      ],
      "source": [
        "a=10\n",
        "b=20\n",
        "if a<b:\n",
        "    print(n)"
      ]
    },
    {
      "cell_type": "code",
      "execution_count": null,
      "metadata": {
        "id": "gp13B9fovlmP",
        "outputId": "623d4b1a-9bbe-44a3-c85e-4616c5749707"
      },
      "outputs": [
        {
          "name": "stdout",
          "output_type": "stream",
          "text": [
            "錯誤產生\n"
          ]
        }
      ],
      "source": [
        "a=10\n",
        "b=20\n",
        "try:\n",
        "    if a<b:\n",
        "        print(n)\n",
        "except:\n",
        "    print(\"錯誤產生\")"
      ]
    },
    {
      "cell_type": "markdown",
      "metadata": {
        "id": "ktZJZgZ-vlmQ"
      },
      "source": [
        "## 指定錯誤類別處理"
      ]
    },
    {
      "cell_type": "code",
      "execution_count": null,
      "metadata": {
        "id": "73brufs5vlmR",
        "outputId": "adf8db5d-10c0-4f2e-b288-9b9f434d0475"
      },
      "outputs": [
        {
          "name": "stdout",
          "output_type": "stream",
          "text": [
            "錯誤產生, 錯誤原因： name 'n' is not defined\n"
          ]
        }
      ],
      "source": [
        "a=10\n",
        "b=20\n",
        "try:\n",
        "    if a<b:\n",
        "        print(n)\n",
        "except NameError as e:\n",
        "    print(\"錯誤產生, 錯誤原因：\",e)\n",
        "except ZeroDivisionError:\n",
        "    print(\"除以0錯誤\")"
      ]
    },
    {
      "cell_type": "markdown",
      "metadata": {
        "id": "Ezz7aDNKvlmR"
      },
      "source": [
        "## else\n",
        "沒有錯誤產生會執行的部分"
      ]
    },
    {
      "cell_type": "code",
      "execution_count": null,
      "metadata": {
        "id": "yim7omzrvlmS",
        "outputId": "b30a64d4-9e7c-449e-eb9c-472722daacef"
      },
      "outputs": [
        {
          "name": "stdout",
          "output_type": "stream",
          "text": [
            "沒有錯誤發生時會執行的部分\n"
          ]
        }
      ],
      "source": [
        "a=10\n",
        "b=20\n",
        "try:\n",
        "    if a>b: #改變比較條件，讓錯誤不發生\n",
        "        print(n)\n",
        "except:\n",
        "    print(\"錯誤發生\")\n",
        "else:\n",
        "    print(\"沒有錯誤發生時會執行的部分\")"
      ]
    },
    {
      "cell_type": "code",
      "execution_count": null,
      "metadata": {
        "id": "Gig-p5jpvlmT",
        "outputId": "3e65381a-44bc-4c19-9186-9aa83d2b1506"
      },
      "outputs": [
        {
          "name": "stdout",
          "output_type": "stream",
          "text": [
            "沒有錯誤發生時會執行的部分\n",
            "不管有沒有錯誤一定會執行的部分\n"
          ]
        }
      ],
      "source": [
        "a=10\n",
        "b=20\n",
        "try:\n",
        "    if a>b: #改變比較條件，讓錯誤不發生\n",
        "        print(n)\n",
        "except:\n",
        "    print(\"錯誤發生\")\n",
        "else:\n",
        "    print(\"沒有錯誤發生時會執行的部分\")\n",
        "finally:\n",
        "    print(\"不管有沒有錯誤一定會執行的部分\")"
      ]
    },
    {
      "cell_type": "code",
      "execution_count": null,
      "metadata": {
        "id": "n9GOSh5svlmU"
      },
      "outputs": [],
      "source": [
        ""
      ]
    }
  ],
  "metadata": {
    "kernelspec": {
      "display_name": "Python 3",
      "language": "python",
      "name": "python3"
    },
    "language_info": {
      "codemirror_mode": {
        "name": "ipython",
        "version": 3
      },
      "file_extension": ".py",
      "mimetype": "text/x-python",
      "name": "python",
      "nbconvert_exporter": "python",
      "pygments_lexer": "ipython3",
      "version": "3.8.5"
    },
    "colab": {
      "name": "Chap7.ipynb",
      "provenance": []
    }
  },
  "nbformat": 4,
  "nbformat_minor": 0
}